{
  "nbformat": 4,
  "nbformat_minor": 0,
  "metadata": {
    "colab": {
      "provenance": [],
      "authorship_tag": "ABX9TyNouQprogEFXplLaLYCv/LG",
      "include_colab_link": true
    },
    "kernelspec": {
      "name": "python3",
      "display_name": "Python 3"
    },
    "language_info": {
      "name": "python"
    }
  },
  "cells": [
    {
      "cell_type": "markdown",
      "metadata": {
        "id": "view-in-github",
        "colab_type": "text"
      },
      "source": [
        "<a href=\"https://colab.research.google.com/github/Mela13076/wordEmbedding/blob/main/wordEmbedding.ipynb\" target=\"_parent\"><img src=\"https://colab.research.google.com/assets/colab-badge.svg\" alt=\"Open In Colab\"/></a>"
      ]
    },
    {
      "cell_type": "markdown",
      "source": [
        "\n",
        "# 📝 Project Description:\n",
        "This project implements a Word2Vec-based word embedding system using Python and Gensim. The purpose is to train a word embedding model on a collection of Star Wars story introductions to capture the semantic meaning of words based on their context.\n",
        "\n",
        "Using the Word2Vec algorithm (either CBOW or Skip-Gram), the model will learn vector representations of words. After training, the program will calculate the cosine similarity between 10 selected pairs of words that appear in the text. These similarity scores will help identify which word pairs are most contextually related according to the trained model.\n",
        "\n",
        "# 🎯 Objective\n",
        "\n",
        "1.   Process natural language text (Star Wars intros).\n",
        "2.   Train a Word2Vec model on this text.\n",
        "3.   Choose 10 meaningful word pairs from the text.\n",
        "4.   Calculate cosine similarity between the word embeddings for each pair.\n",
        "5.   Determine and report the pair with the highest similarity."
      ],
      "metadata": {
        "id": "r1aj8M2lI3lz"
      }
    },
    {
      "cell_type": "code",
      "execution_count": null,
      "metadata": {
        "collapsed": true,
        "id": "fMAx4F2bHKOg"
      },
      "outputs": [],
      "source": [
        "\n",
        "import nltk\n",
        "from nltk.corpus import stopwords\n",
        "from nltk.tokenize import word_tokenize, sent_tokenize\n",
        "from gensim.models import Word2Vec\n",
        "from pathlib import Path\n",
        "\n",
        "# Download the punkt tokenizer data\n",
        "nltk.download('punkt')\n",
        "# Download the stopwords corpus\n",
        "nltk.download('stopwords')\n",
        "nltk.download('punkt_tab')"
      ]
    },
    {
      "cell_type": "code",
      "source": [
        "debug = True"
      ],
      "metadata": {
        "id": "y3loAiYSeD_S"
      },
      "execution_count": null,
      "outputs": []
    },
    {
      "cell_type": "code",
      "source": [
        "# # Step 1: Load the text data\n",
        "\n",
        "# with open('starWarsEp4Script.txt', 'r') as file:\n",
        "#     raw_text = file.read()\n",
        "\n",
        "\n",
        "#function to compbine all txt files in the textFiles folder.\n",
        "def load_all_texts(folder_path):\n",
        "    folder = Path(folder_path)\n",
        "    all_text = \"\\n\".join(file.read_text(encoding='utf-8') for file in folder.glob(\"*.txt\"))\n",
        "    return all_text\n",
        "\n",
        "raw_text = load_all_texts(\"textFiles\")\n"
      ],
      "metadata": {
        "id": "Q2zVIJq6H4i2"
      },
      "execution_count": null,
      "outputs": []
    },
    {
      "cell_type": "code",
      "source": [
        "# Step 2: Preprocess the text\n",
        "\"\"\"\n",
        "Prepares raw text for Word2Vec training: splits into sentences, tokenizes words,lowercases,\n",
        "and removes stopwords/non-alphabetic tokens. Returns cleaned tokenized sentences (list of lists).\n",
        "sent_tokenize() - converts the text into a list of sentences\n",
        "word_tokenize() - converts the text into a list of words and punctuation.\n",
        "\"\"\"\n",
        "def preprocess_text(text, debug=False):\n",
        "    # Tokenize the text into sentences\n",
        "    sentences = sent_tokenize(text)\n",
        "    if debug: print(f'Sentences: {sentences}')\n",
        "\n",
        "    # Tokenize each sentence into words\n",
        "    words = [word_tokenize(sentence) for sentence in sentences]\n",
        "    if debug: print(f'Words: {words}')\n",
        "\n",
        "    # Convert all words to lowercase\n",
        "    words = [[word.lower() for word in sentence] for sentence in words]\n",
        "    if debug: print(f'Lowercased: {words}')\n",
        "\n",
        "    # Remove stopwords and non-alphabetic tokens\n",
        "    \"\"\"\n",
        "    Stopwords are frequently occurring words in a language that are frequently omitted from natural\n",
        "    language processing (NLP) tasks due to their low significance for deciphering textual meaning.\n",
        "    \"\"\"\n",
        "    stop_words = set(stopwords.words('english'))\n",
        "    if debug: print(f'Stop Words: {stop_words}')\n",
        "\n",
        "    cleaned_words = [[word for word in sentence if word.isalpha() and word not in stop_words] for sentence in words]\n",
        "    if debug: print(f'Words processed: {cleaned_words}')\n",
        "\n",
        "    return cleaned_words\n",
        "\n"
      ],
      "metadata": {
        "id": "eTLnzZhTINxZ"
      },
      "execution_count": null,
      "outputs": []
    },
    {
      "cell_type": "code",
      "source": [
        "# Step 3: Train the Word2Vec model using Gensim\n",
        "\"\"\"\n",
        "Train a Word2Vec model using the cleaned and tokenized sentences from the preprocessing step. The goal\n",
        "is to learn a vector representation (embedding)for each word in the vocabulary based on the surrounding context it appears in.\n",
        "\n",
        "I will use Skip-Gram architecture (sg=1), which predicts surrounding context words given a center word.\n",
        "Skip-Gram is chosen because it performs better on smaller datasets and is more effective at learning representations\n",
        "for infrequent or rare words — which is important since the Star Wars intros are a limited corpus with specialized vocabulary.\n",
        "\"\"\"\n",
        "# output from your preprocess_text() function\n",
        "cleaned_words = preprocess_text(raw_text)\n",
        "# - Build and train the model with parameters like vector_size, window, min_count, and sg (for CBOW or Skip-Gram)\n",
        "model = Word2Vec(\n",
        "                  sentences=cleaned_words,  #preprocessed text\n",
        "                  vector_size=100,          # dimension of word vectors\n",
        "                  window=5,                 # context window size\n",
        "                  min_count=1,              # ignore words with total frequency lower than this\n",
        "                  sg=1                      # use Skip-Gram model (sg=1), not CBOW (sg=0)\n",
        "                )\n"
      ],
      "metadata": {
        "id": "HBxA0KA7IO6T"
      },
      "execution_count": null,
      "outputs": []
    },
    {
      "cell_type": "code",
      "source": [
        "# Step 4: Pick 10 word pairs\n",
        "word_pairs = [\n",
        "    (\"jedi\", \"force\"),         # closely related in meaning and story\n",
        "    (\"empire\", \"rebellion\"),   # opposing political forces\n",
        "    (\"vader\", \"sith\"),         # character and affiliation\n",
        "    (\"skywalker\", \"anakin\"),   # identity connection\n",
        "    (\"yoda\", \"wisdom\"),        # symbolic relationship\n",
        "    (\"saber\", \"weapon\"),       # object classification\n",
        "    (\"dark\", \"light\"),         # symbolic opposites\n",
        "    (\"clone\", \"stormtrooper\"), # related military roles\n",
        "    (\"death\", \"destruction\"),  # thematic connection\n",
        "    (\"hope\", \"freedom\")        # symbolic Star Wars values\n",
        "]\n",
        "\n"
      ],
      "metadata": {
        "id": "sqIA7HFtIPB3"
      },
      "execution_count": null,
      "outputs": []
    },
    {
      "cell_type": "code",
      "source": [
        "# Step 5: Compute cosine similarity\n",
        "import matplotlib.pyplot as plt\n",
        "\n",
        "def compare_word_pairs_and_plot(model, word_pairs):\n",
        "    similarities = [] #list of all the similarites with word pair\n",
        "\n",
        "    #finding similarites\n",
        "    #For each word pair, calculate similarity using model.wv.similarity(word1, word2)\n",
        "    for w1, w2 in word_pairs:\n",
        "        if w1 in model.wv and w2 in model.wv:\n",
        "            sim = model.wv.similarity(w1, w2)\n",
        "            similarities.append(((w1, w2), sim))\n",
        "            #Store the pair and similarity score in a list\n",
        "            print(f\"Similarity between '{w1}' and '{w2}': {sim:.4f}\")\n",
        "        else:\n",
        "            print(f\"Missing word(s): '{w1}' or '{w2}'\")\n",
        "\n",
        "    if not similarities:\n",
        "        print(\"No valid word pairs found to plot.\")\n",
        "        return\n",
        "\n",
        "    # Sort by similarity for better plotting\n",
        "    similarities.sort(key=lambda x: x[1], reverse=True)\n",
        "\n",
        "    # Unpack data\n",
        "    labels = [f\"{w1}-{w2}\" for (w1, w2), _ in similarities]\n",
        "    scores = [sim for _, sim in similarities]\n",
        "\n",
        "    # Plotting\n",
        "    plt.figure(figsize=(10, 6))\n",
        "    plt.barh(labels, scores)\n",
        "    plt.xlabel(\"Cosine Similarity\")\n",
        "    plt.title(\"Word2Vec Similarity Scores - Star Wars Word Pairs\")\n",
        "    plt.gca().invert_yaxis()  # Most similar on top\n",
        "    plt.tight_layout()\n",
        "    plt.show()\n",
        "\n",
        "\n",
        "compare_word_pairs_and_plot(model, word_pairs)\n"
      ],
      "metadata": {
        "colab": {
          "base_uri": "https://localhost:8080/",
          "height": 771
        },
        "id": "TRrpMitMIPIj",
        "outputId": "f99fa64e-64e9-4957-f986-beaedab4be6a"
      },
      "execution_count": null,
      "outputs": [
        {
          "output_type": "stream",
          "name": "stdout",
          "text": [
            "Similarity between 'jedi' and 'force': 0.9881\n",
            "Similarity between 'empire' and 'rebellion': 0.9960\n",
            "Similarity between 'anakin' and 'sith': 0.9953\n",
            "Similarity between 'skywalker' and 'anakin': 0.9931\n",
            "Similarity between 'yoda' and 'wisdom': 0.9516\n",
            "Similarity between 'saber' and 'weapon': 0.9945\n",
            "Similarity between 'dark' and 'light': 0.9738\n",
            "Similarity between 'clone' and 'stormtrooper': 0.9974\n",
            "Similarity between 'death' and 'destruction': 0.7766\n",
            "Similarity between 'hope' and 'freedom': 0.9963\n"
          ]
        },
        {
          "output_type": "display_data",
          "data": {
            "text/plain": [
              "<Figure size 1000x600 with 1 Axes>"
            ],
            "image/png": "[encoded data removed]"
          },
          "metadata": {}
        }
      ]
    },
    {
      "cell_type": "code",
      "source": [
        "# Step 6: Analyze and output results\n",
        "\n",
        "# 1. View the learned vocabulary\n",
        "print(\"Vocabulary preview (word:index):\")\n",
        "print(dict(list(model.wv.key_to_index.items())[:10]))  # Show first 10 words\n",
        "print(f\"\\nTotal vocabulary size: {len(model.wv.key_to_index)}\\n\")\n",
        "\n",
        "# 2. View the vector representation for a specific word\n",
        "word = 'force'\n",
        "if word in model.wv:\n",
        "    print(f\"Vector representation for '{word}':\")\n",
        "    print(model.wv[word], \"\\n\")\n",
        "else:\n",
        "    print(f\"'{word}' not found in the vocabulary.\\n\")\n",
        "\n",
        "# 3. Check cosine similarity between two known words\n",
        "word1, word2 = 'jedi', 'force'\n",
        "if word1 in model.wv and word2 in model.wv:\n",
        "    similarity = model.wv.similarity(word1, word2)\n",
        "    print(f\"Cosine similarity between '{word1}' and '{word2}': {similarity:.4f}\\n\")\n",
        "else:\n",
        "    print(f\"One or both words not found in vocabulary: '{word1}', '{word2}'\\n\")\n",
        "\n",
        "# 4. Get the top 10 most similar words to a specific word\n",
        "target_word = 'sith'\n",
        "if target_word in model.wv:\n",
        "    print(f\"Top 10 most similar words to '{target_word}':\")\n",
        "    for similar_word, score in model.wv.most_similar(target_word):\n",
        "        print(f\"{similar_word}: {score:.4f}\")\n",
        "else:\n",
        "    print(f\"'{target_word}' not found in the vocabulary.\")\n"
      ],
      "metadata": {
        "colab": {
          "base_uri": "https://localhost:8080/"
        },
        "id": "WApJY_FjIPO2",
        "outputId": "dd8adbf0-694f-47f6-9412-6707246c315e"
      },
      "execution_count": null,
      "outputs": [
        {
          "output_type": "stream",
          "name": "stdout",
          "text": [
            "Vocabulary preview (word:index):\n",
            "{'luke': 0, 'han': 1, 'leia': 2, 'threepio': 3, 'vader': 4, 'star': 5, 'int': 6, 'artoo': 7, 'death': 8, 'cockpit': 9}\n",
            "\n",
            "Total vocabulary size: 6583\n",
            "\n",
            "Vector representation for 'force':\n",
            "[-0.19407496  0.08151609 -0.12498106  0.02914918  0.2111453  -0.17071201\n",
            "  0.0415367   0.23596078 -0.18548526 -0.17950276 -0.30239075 -0.34963068\n",
            " -0.0317341   0.06319144  0.2696981  -0.34127074 -0.12975138 -0.21357216\n",
            "  0.18035135 -0.35802898  0.26341856 -0.01216239  0.23578523 -0.08594847\n",
            " -0.02389245  0.10017709  0.10923186  0.08149633 -0.25872403 -0.08261783\n",
            "  0.13767825  0.10556961  0.04861555 -0.03880791 -0.00177851  0.06966107\n",
            "  0.12686631 -0.10253563 -0.30776438 -0.3422015  -0.21144706 -0.32882193\n",
            " -0.31300077  0.06142053  0.05716191 -0.12644292 -0.1013636   0.08407325\n",
            "  0.01209309  0.12855795  0.06641888 -0.29280776 -0.10885035 -0.05532084\n",
            "  0.03583272  0.06982785  0.00973028 -0.10643607 -0.3691229   0.09203\n",
            " -0.09292611  0.01699519 -0.19338602  0.35003433 -0.15911569  0.06972573\n",
            "  0.04562628  0.31901693 -0.19065738  0.28025666 -0.12724847  0.14592683\n",
            "  0.2842844  -0.10486613  0.01575216 -0.08042472 -0.00263028 -0.09441195\n",
            " -0.32615572 -0.07603844 -0.10800264 -0.12777492 -0.10464559  0.28516123\n",
            " -0.16058758  0.00770259  0.12074044  0.3689335   0.128255   -0.14741187\n",
            "  0.31485957  0.05578912  0.03911941  0.19899873  0.02673776  0.36372826\n",
            "  0.2911804  -0.27032068  0.02314087  0.05287286] \n",
            "\n",
            "Cosine similarity between 'jedi' and 'force': 0.9797\n",
            "\n",
            "Top 10 most similar words to 'sith':\n",
            "power: 0.9954\n",
            "palpatine: 0.9952\n",
            "skywalker: 0.9949\n",
            "anakin: 0.9948\n",
            "rey: 0.9938\n",
            "strong: 0.9936\n",
            "kenobi: 0.9934\n",
            "order: 0.9933\n",
            "young: 0.9932\n",
            "must: 0.9932\n"
          ]
        }
      ]
    }
  ]
}